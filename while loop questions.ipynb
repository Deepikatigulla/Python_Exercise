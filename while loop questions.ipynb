{
 "cells": [
  {
   "cell_type": "code",
   "execution_count": 1,
   "id": "0c036d76",
   "metadata": {},
   "outputs": [],
   "source": [
    " #1"
   ]
  },
  {
   "cell_type": "code",
   "execution_count": 2,
   "id": "a44c8c12",
   "metadata": {},
   "outputs": [
    {
     "name": "stdout",
     "output_type": "stream",
     "text": [
      "AbCdE"
     ]
    }
   ],
   "source": [
    "x=\"abcde\"\n",
    "a=len(x)\n",
    "b=0\n",
    "while b<a:\n",
    "    if b%2==0:\n",
    "        print(x[b].upper(),end=\"\")\n",
    "    else:\n",
    "        print(x[b],end=\"\")\n",
    "    b=b+1 "
   ]
  },
  {
   "cell_type": "code",
   "execution_count": 3,
   "id": "8cef11f2",
   "metadata": {},
   "outputs": [],
   "source": [
    "#2 "
   ]
  },
  {
   "cell_type": "code",
   "execution_count": 6,
   "id": "ea2da76f",
   "metadata": {},
   "outputs": [
    {
     "name": "stdout",
     "output_type": "stream",
     "text": [
      "<class 'int'>\n",
      "<class 'float'>\n",
      "<class 'str'>\n",
      "<class 'complex'>\n"
     ]
    }
   ],
   "source": [
    "a=[10,20.2,\"abc \",4+3j]\n",
    "b=len(a)\n",
    "c=0\n",
    "while c<b:\n",
    "    print(type(a[c]))\n",
    "    c=c+1"
   ]
  },
  {
   "cell_type": "code",
   "execution_count": 7,
   "id": "e269d34b",
   "metadata": {},
   "outputs": [],
   "source": [
    "#3"
   ]
  },
  {
   "cell_type": "code",
   "execution_count": 9,
   "id": "3e9e4cc1",
   "metadata": {},
   "outputs": [
    {
     "name": "stdout",
     "output_type": "stream",
     "text": [
      "abcd\n",
      "3+1+5+9+3+5= 26\n"
     ]
    }
   ],
   "source": [
    "a=[3,\"a\",\"b\",\"c\",1,5,9,3,5,\"d\"]\n",
    "b=len(a)\n",
    "c=0\n",
    "e=0\n",
    "while c<b:\n",
    "    d=type(a[c])\n",
    "    if d==int:\n",
    "        e=e+a[c]\n",
    "    else:\n",
    "        print(a[c],end=\"\")\n",
    "    c=c+1\n",
    "print(\"\\n3+1+5+9+3+5=\",e)"
   ]
  },
  {
   "cell_type": "code",
   "execution_count": 10,
   "id": "df39c593",
   "metadata": {},
   "outputs": [],
   "source": [
    "#4"
   ]
  },
  {
   "cell_type": "code",
   "execution_count": 11,
   "id": "5e1756c5",
   "metadata": {},
   "outputs": [
    {
     "name": "stdout",
     "output_type": "stream",
     "text": [
      "[1, 2, 3, 4]\n",
      "['a', 'b', 'c', 'd', 'e', 'f']\n"
     ]
    }
   ],
   "source": [
    "a=\"abcd1234ef\"\n",
    "n=[]\n",
    "c=[]\n",
    "b=len(a)\n",
    "x=0\n",
    "while x<b:\n",
    "    if a[x].isdigit():\n",
    "        n.append(int(a[x]))\n",
    "    else:\n",
    "        c.append(a[x])\n",
    "    x=x+1\n",
    "print(n)\n",
    "print(c)"
   ]
  },
  {
   "cell_type": "code",
   "execution_count": 12,
   "id": "57637dac",
   "metadata": {},
   "outputs": [],
   "source": [
    "#5"
   ]
  },
  {
   "cell_type": "code",
   "execution_count": 13,
   "id": "b13f8432",
   "metadata": {},
   "outputs": [
    {
     "name": "stdout",
     "output_type": "stream",
     "text": [
      "[2, 'd', 'a', 6]\n"
     ]
    }
   ],
   "source": [
    "l1=[1,2,3,'d','b']\n",
    "l2=[6,1,3,'a','b']\n",
    "l3=set(l1)-set(l2)\n",
    "l4=set(l2)-set(l1)\n",
    "\n",
    "print(list(l3)+list(l4))\n"
   ]
  },
  {
   "cell_type": "code",
   "execution_count": 14,
   "id": "a4ef853e",
   "metadata": {},
   "outputs": [],
   "source": [
    "#6"
   ]
  },
  {
   "cell_type": "code",
   "execution_count": 3,
   "id": "3c321365",
   "metadata": {},
   "outputs": [
    {
     "name": "stdout",
     "output_type": "stream",
     "text": [
      "first input 10\n",
      "type *,+,-,/,% or c to exit *\n",
      "2nd input 2\n",
      "20\n",
      "first input 14\n",
      "type *,+,-,/,% or c to exit +\n",
      "2nd input 6\n",
      "20\n",
      "first input 16\n",
      "type *,+,-,/,% or c to exit c\n",
      "2nd input 4\n",
      "0\n"
     ]
    }
   ],
   "source": [
    "x=\"a\"\n",
    "while x!=\"c\":\n",
    "    a=int(input(\"first input \"))\n",
    "    x=input(\"type *,+,-,/,% or c to exit \")\n",
    "    b=int(input(\"2nd input \"))\n",
    "    if x==\"+\":\n",
    "        print(a+b)\n",
    "    elif x==\"-\":\n",
    "        print(a-b)\n",
    "    elif x==\"*\":\n",
    "        print(a*b)\n",
    "    elif x==\"/\":\n",
    "        print(a/b)\n",
    "    else:\n",
    "    \n",
    "        print(a%b)\n",
    "        "
   ]
  },
  {
   "cell_type": "code",
   "execution_count": null,
   "id": "efcc469b",
   "metadata": {},
   "outputs": [],
   "source": [
    "\n",
    "\n",
    "\n",
    "\n",
    "\n",
    "\n",
    "\n",
    "\n",
    "\n",
    "\n",
    "\n",
    "\n",
    "\n",
    "\n",
    "\n",
    "\n",
    "\n",
    "\n",
    "\n"
   ]
  },
  {
   "cell_type": "code",
   "execution_count": null,
   "id": "bf87c466",
   "metadata": {},
   "outputs": [],
   "source": []
  }
 ],
 "metadata": {
  "kernelspec": {
   "display_name": "Python 3 (ipykernel)",
   "language": "python",
   "name": "python3"
  },
  "language_info": {
   "codemirror_mode": {
    "name": "ipython",
    "version": 3
   },
   "file_extension": ".py",
   "mimetype": "text/x-python",
   "name": "python",
   "nbconvert_exporter": "python",
   "pygments_lexer": "ipython3",
   "version": "3.9.12"
  }
 },
 "nbformat": 4,
 "nbformat_minor": 5
}
